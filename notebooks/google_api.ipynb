{
 "cells": [
  {
   "cell_type": "code",
   "execution_count": 1,
   "metadata": {},
   "outputs": [],
   "source": [
    "# import dependancies \n",
    "import requests\n",
    "import json\n",
    "import pandas as pd\n",
    "import pymongo\n",
    "from config import gkey"
   ]
  },
  {
   "cell_type": "code",
   "execution_count": 2,
   "metadata": {},
   "outputs": [],
   "source": [
    "# import disc golf courses, isolate addresses\n",
    "nc_courses_df = pd.read_csv(\"../data/nc_courses_df.csv\")"
   ]
  },
  {
   "cell_type": "code",
   "execution_count": 6,
   "metadata": {},
   "outputs": [],
   "source": [
    "# make a connection to MongoDB\n",
    "conn = 'mongodb://localhost:27017'\n",
    "client = pymongo.MongoClient(conn)\n",
    "db = client.disc_golf_db\n",
    "\n",
    "# drop collection to prevent duplicates\n",
    "db.nc_courses.drop()\n",
    "\n",
    "# create new collection\n",
    "collection = db.nc_courses"
   ]
  },
  {
   "cell_type": "code",
   "execution_count": 7,
   "metadata": {},
   "outputs": [],
   "source": [
    "# set up for loop for google api call\n",
    "for index, row in nc_courses_df.iterrows():\n",
    "    address = row[9]\n",
    "    \n",
    "    # set up params   \n",
    "    params = {\n",
    "        \"address\" : address,\n",
    "        \"key\" : gkey\n",
    "    }\n",
    "\n",
    "    # make api call, isolate results\n",
    "    base_url = \"https://maps.googleapis.com/maps/api/geocode/json\"\n",
    "    response = requests.get(base_url, params=params)\n",
    "    disc_golf_data = response.json()\n",
    "    results = disc_golf_data[\"results\"]\n",
    "    \n",
    "    # gather lat and lng\n",
    "    try: \n",
    "        lat = results[0]['geometry']['location']['lat']\n",
    "        lng = results[0]['geometry']['location']['lng']\n",
    "    except:\n",
    "        pass\n",
    "    \n",
    "    # create post to MongoDB \n",
    "    post = {\n",
    "        \"Disc Golf Course\" : row[5],\n",
    "        \"# Holes\" : row[2],\n",
    "        \"City\" : row[3],\n",
    "        \"State\" : row[8],\n",
    "        \"Postal Code\": row[6],\n",
    "        \"Rating\" : row[7],\n",
    "        \"Course Address\" : row[9],\n",
    "        \"Latitude\" : lat,\n",
    "        \"Longitude\" : lng\n",
    "    }\n",
    "\n",
    "    collection.insert_one(post)"
   ]
  },
  {
   "cell_type": "code",
   "execution_count": null,
   "metadata": {},
   "outputs": [],
   "source": []
  }
 ],
 "metadata": {
  "kernelspec": {
   "display_name": "Python 3",
   "language": "python",
   "name": "python3"
  },
  "language_info": {
   "codemirror_mode": {
    "name": "ipython",
    "version": 3
   },
   "file_extension": ".py",
   "mimetype": "text/x-python",
   "name": "python",
   "nbconvert_exporter": "python",
   "pygments_lexer": "ipython3",
   "version": "3.6.9"
  }
 },
 "nbformat": 4,
 "nbformat_minor": 2
}
